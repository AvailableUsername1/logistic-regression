{
 "cells": [
  {
   "cell_type": "code",
   "execution_count": null,
   "metadata": {},
   "outputs": [],
   "source": [
    "import pandas as pd\n",
    "import numpy as np\n",
    "\n",
    "data = pd.read_csv(\"breast-cancer.csv\")"
   ]
  },
  {
   "cell_type": "code",
   "execution_count": null,
   "metadata": {},
   "outputs": [],
   "source": [
    "#id column is no useful for machine learning\n",
    "data.drop(\"id\", axis = 1, inplace=True)\n",
    "\n",
    "#converting M to 1 and B to 0\n",
    "data.replace({'M': 1.0, \"B\": 0.0}, inplace=True)"
   ]
  },
  {
   "cell_type": "code",
   "execution_count": null,
   "metadata": {},
   "outputs": [],
   "source": [
    "#There are no missing values and data types of features are what is expected\n",
    "data.info()"
   ]
  },
  {
   "cell_type": "code",
   "execution_count": null,
   "metadata": {},
   "outputs": [],
   "source": [
    "#Transforming pandas data frame into a numpy array\n",
    "npdata = data.to_numpy()\n",
    "npdata"
   ]
  },
  {
   "cell_type": "code",
   "execution_count": null,
   "metadata": {},
   "outputs": [],
   "source": [
    "#Randomly splitting data into a train(60%), validation(20%) and test(20%) set.\n",
    "np.random.shuffle(npdata)\n",
    "train_data = npdata[0:int(np.floor(npdata.shape[0] * 0.6)), :]\n",
    "validation_data = npdata[int(np.floor(npdata.shape[0] * 0.6)):int(np.floor(npdata.shape[0] * 0.8)), :]\n",
    "test_data = npdata[int(np.floor(npdata.shape[0] * 0.8)):, :]"
   ]
  },
  {
   "cell_type": "code",
   "execution_count": null,
   "metadata": {},
   "outputs": [],
   "source": [
    "#splitting features and labels\n",
    "train_input = train_data[:,1:]\n",
    "train_output = train_data[:,[0]]"
   ]
  },
  {
   "cell_type": "code",
   "execution_count": null,
   "metadata": {},
   "outputs": [],
   "source": [
    "import logistic_regression as lr\n",
    "\n",
    "#initializing model\n",
    "model = lr.logisticRegression(train_input.shape[1])"
   ]
  },
  {
   "cell_type": "code",
   "execution_count": null,
   "metadata": {},
   "outputs": [],
   "source": [
    "#training the model using gradient descent\n",
    "model.GD(train_input, train_output, validation_data=validation_data, learning_rate = 0.001, iterations = 300)"
   ]
  },
  {
   "cell_type": "code",
   "execution_count": null,
   "metadata": {},
   "outputs": [],
   "source": [
    "#getting the accuracy of the model\n",
    "accuracy = model.accuracy(test_data)\n",
    "accuracy"
   ]
  }
 ],
 "metadata": {
  "interpreter": {
   "hash": "b61f485532fd957b3b7677005c02f3d01e1ee16a8128816521630bd941ac11ac"
  },
  "kernelspec": {
   "display_name": "Python 3.8.11 ('datascience')",
   "language": "python",
   "name": "python3"
  },
  "language_info": {
   "codemirror_mode": {
    "name": "ipython",
    "version": 3
   },
   "file_extension": ".py",
   "mimetype": "text/x-python",
   "name": "python",
   "nbconvert_exporter": "python",
   "pygments_lexer": "ipython3",
   "version": "3.8.11"
  },
  "orig_nbformat": 4
 },
 "nbformat": 4,
 "nbformat_minor": 2
}
